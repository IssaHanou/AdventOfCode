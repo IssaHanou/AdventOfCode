{
 "cells": [
  {
   "cell_type": "code",
   "execution_count": null,
   "metadata": {},
   "outputs": [],
   "source": [
    "# Part 1\n",
    "f = open(\"day2_test.txt\")\n",
    "res = 0\n",
    "for line in eachline(f)\n",
    "    line = split(line, \": \")\n",
    "    game = parse(Int64, split(line[1], \" \")[2])\n",
    "    possible = true\n",
    "    for sets in split(line[2], \"; \")\n",
    "        for cube in split(sets, \", \")\n",
    "            col = split(cube, \" \")[2]\n",
    "            num = split(cube, \" \")[1]\n",
    "            if col == \"red\" && parse(Int64, num) > 12\n",
    "                possible = false\n",
    "            elseif col == \"green\" && parse(Int64, num) > 13\n",
    "                possible = false\n",
    "            elseif col == \"blue\" && parse(Int64, num) > 14\n",
    "                possible = false\n",
    "            end\n",
    "        end\n",
    "    end\n",
    "    if possible\n",
    "        res += game\n",
    "    end\n",
    "end\n",
    "print(res)"
   ]
  },
  {
   "cell_type": "code",
   "execution_count": null,
   "metadata": {},
   "outputs": [],
   "source": [
    "# Part 2\n",
    "f = open(\"day2_test.txt\")\n",
    "res = 0\n",
    "for line in eachline(f)\n",
    "    line = split(line, \": \")\n",
    "    game = parse(Int64, split(line[1], \" \")[2])\n",
    "    mins = Dict(\"red\"=> 0, \"green\"=>0, \"blue\"=>0)\n",
    "    for sets in split(line[2], \"; \")\n",
    "        for cube in split(sets, \", \")\n",
    "            col = split(cube, \" \")[2]\n",
    "            num = split(cube, \" \")[1]\n",
    "            mins[col] = max(mins[col], parse(Int64, num))\n",
    "        end\n",
    "    end\n",
    "    res += mins[\"red\"] * mins[\"blue\"] * mins[\"green\"]\n",
    "end\n",
    "print(res)"
   ]
  }
 ],
 "metadata": {
  "kernelspec": {
   "display_name": "Julia 1.9.4",
   "language": "julia",
   "name": "julia-1.9"
  },
  "language_info": {
   "file_extension": ".jl",
   "mimetype": "application/julia",
   "name": "julia",
   "version": "1.9.4"
  }
 },
 "nbformat": 4,
 "nbformat_minor": 2
}
