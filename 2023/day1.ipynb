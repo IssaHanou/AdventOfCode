{
 "cells": [
  {
   "cell_type": "code",
   "execution_count": 1,
   "metadata": {},
   "outputs": [
    {
     "name": "stdout",
     "output_type": "stream",
     "text": [
      "55816"
     ]
    }
   ],
   "source": [
    "# Part 1\n",
    "f = open(\"day1.txt\")\n",
    "res = 0\n",
    "for line in eachline(f)\n",
    "    nums = []\n",
    "    for ch in line\n",
    "        try\n",
    "            x = parse(Int64, ch)\n",
    "            push!(nums, ch)\n",
    "        catch\n",
    "        end\n",
    "    end\n",
    "\n",
    "    res += parse(Int64, nums[1] * last(nums))\n",
    "end\n",
    "print(res)"
   ]
  },
  {
   "cell_type": "code",
   "execution_count": 12,
   "metadata": {},
   "outputs": [
    {
     "name": "stdout",
     "output_type": "stream",
     "text": [
      "54980\n"
     ]
    }
   ],
   "source": [
    "# Part 2\n",
    "f = open(\"day1.txt\")\n",
    "res = 0\n",
    "letters = [\"one\", \"two\", \"three\", \"four\", \"five\", \"six\", \"seven\", \"eight\", \"nine\"]\n",
    "for line in eachline(f)\n",
    "    nums = []\n",
    "    for i in eachindex(line)\n",
    "        try\n",
    "            ch = line[i]\n",
    "            x = parse(Int64, ch)\n",
    "            push!(nums, ch)\n",
    "        catch\n",
    "            for j in eachindex(letters)\n",
    "                l = letters[j]\n",
    "                e = i + length(l) - 1\n",
    "                if e <= length(line)\n",
    "                    if line[i:e] == l\n",
    "                        push!(nums, string(j))\n",
    "                    end\n",
    "                end\n",
    "            end\n",
    "        end\n",
    "    end\n",
    "    res += parse(Int64, nums[1] * last(nums))\n",
    "end\n",
    "println(res)"
   ]
  }
 ],
 "metadata": {
  "kernelspec": {
   "display_name": "Julia 1.9.4",
   "language": "julia",
   "name": "julia-1.9"
  },
  "language_info": {
   "file_extension": ".jl",
   "mimetype": "application/julia",
   "name": "julia",
   "version": "1.9.4"
  }
 },
 "nbformat": 4,
 "nbformat_minor": 2
}
