{
 "cells": [
  {
   "cell_type": "code",
   "execution_count": null,
   "metadata": {},
   "outputs": [],
   "source": [
    "# Part 1\n",
    "f = open(\"day3_test.txt\")\n",
    "grid = []\n",
    "for line in readlines(f)\n",
    "    push!(grid, line)\n",
    "end\n",
    "nums = []\n",
    "for i in eachindex(grid)\n",
    "    for j in eachindex(grid[i])\n",
    "        digit = false\n",
    "        if i < length(grid) && grid[i + 1][j] != '.' && !isdigit(only(grid[i + 1][j]))\n",
    "            digit = true\n",
    "        elseif i < length(grid) && j < length(grid[i]) && grid[i + 1][j + 1] != '.' && !isdigit(only(grid[i + 1][j + 1]))\n",
    "            digit = true\n",
    "        end\n",
    "        if digit\n",
    "            k = j\n",
    "            while k >= 1 && grid[i][k] != '.'\n",
    "                k -= 1\n",
    "            end\n",
    "            push!(nums, parse(Int64, chop(grid[i], head=k, tail=length(grid[i]) - j)))\n",
    "        end\n",
    "    end\n",
    "end\n",
    "println(nums)\n",
    "print(sum(nums))\n"
   ]
  }
 ],
 "metadata": {
  "kernelspec": {
   "display_name": "Julia 1.9.4",
   "language": "julia",
   "name": "julia-1.9"
  },
  "language_info": {
   "file_extension": ".jl",
   "mimetype": "application/julia",
   "name": "julia",
   "version": "1.9.4"
  }
 },
 "nbformat": 4,
 "nbformat_minor": 2
}
